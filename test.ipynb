{
 "cells": [
  {
   "cell_type": "code",
   "execution_count": 1,
   "metadata": {},
   "outputs": [],
   "source": [
    "\n",
    "import pandas as pd\n",
    "from pm4py.objects.log.importer.xes import importer as xes_importer\n",
    "from pm4py.objects.conversion.log import converter as log_converter\n"
   ]
  },
  {
   "cell_type": "code",
   "execution_count": 24,
   "metadata": {},
   "outputs": [],
   "source": [
    "df = pd.read_pickle(\"./data/1_logs_org_a2.pkl\")\n",
    "df = df.sort_values([\"case_seq_num\", \"timestamp\"])\n"
   ]
  },
  {
   "cell_type": "code",
   "execution_count": 25,
   "metadata": {},
   "outputs": [
    {
     "data": {
      "text/plain": [
       "(453, 1740)"
      ]
     },
     "execution_count": 25,
     "metadata": {},
     "output_type": "execute_result"
    }
   ],
   "source": [
    "\n",
    "cases_before = df[\"case_seq_num\"].nunique()\n",
    "df = df.sort_values([\"case_seq_num\", \"timestamp\"])\n",
    "df = df.groupby(\"case_seq_num\").filter(lambda trace: trace[\"concept_name\"].iloc[-1] == \"Completed\").reset_index(drop=True)\n",
    "cases_after = df[\"case_seq_num\"].nunique()\n",
    "dropped = cases_before - cases_after\n",
    "dropped, cases_before\n"
   ]
  },
  {
   "cell_type": "code",
   "execution_count": 11,
   "metadata": {},
   "outputs": [],
   "source": [
    "from pm4py.objects.log.util import dataframe_utils\n",
    "\n",
    "def clean_df(df):\n",
    "    \"\"\"\n",
    "        Takes df as input, returns a new df cleaned by:\n",
    "        map lifecycle transitions into new names (to reduce noise)\n",
    "        drop consecutive duplicates of lifecycle transition in the same case's trace\n",
    "        Sort by case_seq_num, timestamp\n",
    "        Change column names\n",
    "    \"\"\"\n",
    "    mapping = {\n",
    "        \"Assigned\": \"assignment\",\n",
    "        \"Awaiting Assignment\": \"assignment\",\n",
    "\n",
    "        \"In Progress\": \"work\",\n",
    "\n",
    "        \"Wait - Implementation\": \"wait\",\n",
    "        \"Wait\": \"wait\",\n",
    "        \"Wait - User\": \"wait\",\n",
    "        \"Wait - Vendor\": \"wait\",\n",
    "\n",
    "        \"Resolved\": \"close\",\n",
    "        \"Closed\": \"close\",\n",
    "        \"In Call\": \"close\",\n",
    "\n",
    "        \"Cancelled\": \"cancelled\",\n",
    "    }\n",
    "\n",
    "    df[\"lifecycle_transition\"] = df[\"lifecycle_transition\"].map(mapping)\n",
    "\n",
    "    cases_before = df[\"case_seq_num\"].nunique()\n",
    "    df = df.sort_values([\"case_seq_num\", \"timestamp\"])\n",
    "    df = df.groupby(\"case_seq_num\").filter(lambda trace: trace[\"lifecycle_transition\"].iloc[-1] == \"close\").reset_index(drop=True)\n",
    "    cases_after = df[\"case_seq_num\"].nunique()\n",
    "    dropped = cases_before - cases_after\n",
    "    print(f\"Dropped {dropped} cases out of {cases_before}  for not having CLOSE as end LIFECYCLE \")\n",
    "\n",
    "    df = df[df[\"lifecycle_transition\"].ne(df.groupby(\"case_seq_num\")[\"lifecycle_transition\"].shift())].reset_index(drop=True)\n",
    "    df = df[[\"case_seq_num\", \"lifecycle_transition\", \"timestamp\"]]\n",
    "    df = df.rename(columns={\n",
    "        \"case_seq_num\": \"case:concept:name\",\n",
    "        \"lifecycle_transition\": \"concept:name\",\n",
    "        \"timestamp\": \"time:timestamp\"\n",
    "    })\n",
    "    df = df.sort_values([\"case:concept:name\", \"concept:name\", \"time:timestamp\"])\n",
    "    df = dataframe_utils.convert_timestamp_columns_in_df(df)\n",
    "\n",
    "    return df\n"
   ]
  },
  {
   "cell_type": "code",
   "execution_count": 15,
   "metadata": {},
   "outputs": [],
   "source": [
    "\n",
    "\n",
    "def get_most_common_trace(df):\n",
    "    df = df.sort_values([\"case:concept:name\", \"time:timestamp\"])\n",
    "    trace_variants=  (\n",
    "        df.groupby(\"case:concept:name\")[\"concept:name\"].apply(lambda seq:tuple(seq))\n",
    "    )\n",
    "    variants_counts = trace_variants.value_counts()\n",
    "    top10 = variants_counts.head(10)\n",
    "    return top10\n"
   ]
  },
  {
   "cell_type": "code",
   "execution_count": 17,
   "metadata": {},
   "outputs": [
    {
     "name": "stdout",
     "output_type": "stream",
     "text": [
      "Dropped 453 cases out of 1740  for not having CLOSE as end LIFECYCLE \n",
      "Dropped 969 cases out of 6080  for not having CLOSE as end LIFECYCLE \n"
     ]
    },
    {
     "data": {
      "text/plain": [
       "concept:name\n",
       "(assignment, work, close)                            293\n",
       "(work, close)                                        167\n",
       "(assignment, work, wait, close)                      132\n",
       "(work, wait, close)                                   76\n",
       "(work, assignment, work, assignment, work, close)     62\n",
       "(work, assignment, work, close)                       52\n",
       "(assignment, work, assignment, work, close)           52\n",
       "(assignment, work, assignment, work, wait, close)     44\n",
       "(work, assignment, work, wait, close)                 30\n",
       "(assignment, work, wait, work, close)                 21\n",
       "Name: count, dtype: int64"
      ]
     },
     "execution_count": 17,
     "metadata": {},
     "output_type": "execute_result"
    }
   ],
   "source": [
    "df_org_a2 = pd.read_pickle(\"./data/1_logs_org_a2.pkl\")\n",
    "df_org_c = pd.read_pickle(\"./data/1_logs_org_c.pkl\")\n",
    "\n",
    "\n",
    "\n",
    "#cleaning\n",
    "cleaned_a2 = clean_df(df_org_a2)\n",
    "cleaned_c = clean_df(df_org_c)\n",
    "\n",
    "a2_common_trace = get_most_common_trace(cleaned_a2)\n",
    "a2_common_trace"
   ]
  },
  {
   "cell_type": "code",
   "execution_count": null,
   "metadata": {},
   "outputs": [],
   "source": []
  }
 ],
 "metadata": {
  "kernelspec": {
   "display_name": "myenv",
   "language": "python",
   "name": "python3"
  },
  "language_info": {
   "codemirror_mode": {
    "name": "ipython",
    "version": 3
   },
   "file_extension": ".py",
   "mimetype": "text/x-python",
   "name": "python",
   "nbconvert_exporter": "python",
   "pygments_lexer": "ipython3",
   "version": "3.9.9"
  }
 },
 "nbformat": 4,
 "nbformat_minor": 2
}
