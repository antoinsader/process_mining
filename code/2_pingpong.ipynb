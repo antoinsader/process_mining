{
 "cells": [
  {
   "cell_type": "code",
   "execution_count": 1,
   "metadata": {},
   "outputs": [],
   "source": [
    "\n",
    "import pandas as pd \n",
    "import os\n",
    "from collections import Counter\n",
    "import matplotlib.pyplot as plt\n"
   ]
  },
  {
   "cell_type": "code",
   "execution_count": 2,
   "metadata": {},
   "outputs": [],
   "source": [
    "\n",
    "def get_ping_pong(trace):\n",
    "    orgs = trace[\"org_group\"].tolist()\n",
    "    timestamps = trace[\"timestamp\"].tolist()\n",
    "    orgs = [(x, timestamps[i]) for i, x in enumerate(orgs) if i ==0 or x != orgs[i-1] ]\n",
    "    pairs = []\n",
    "    n = len(orgs)\n",
    "    for ping_idx in range(n):\n",
    "        ping_item = orgs[ping_idx][0]\n",
    "        ping_timestamp = orgs[ping_idx][1]\n",
    "        if ping_item in [x[0] for x in orgs[ping_idx:]]:\n",
    "            for pong_idx in range(ping_idx+1, n):\n",
    "                ping_again = orgs[pong_idx][0]\n",
    "                if ping_item == ping_again:\n",
    "                    duration_days = (orgs[pong_idx][1] - ping_timestamp).total_seconds() / (24*60*60)\n",
    "                    pairs.append(((ping_item, orgs[pong_idx - 1][0]), (duration_days)))      \n",
    "                    break\n",
    "    return pairs"
   ]
  },
  {
   "cell_type": "code",
   "execution_count": 3,
   "metadata": {},
   "outputs": [],
   "source": [
    "\n",
    "def ping_pong_trace_serie(trace):\n",
    "    pairs = get_ping_pong(trace)\n",
    "    return pd.Series({\n",
    "        \"case_seq_num\": trace.name,\n",
    "        \"has_ping_pong\": len(pairs) > 0,\n",
    "        \"ping_pong_pairs\": pairs\n",
    "    })\n"
   ]
  },
  {
   "cell_type": "code",
   "execution_count": 5,
   "metadata": {},
   "outputs": [
    {
     "name": "stderr",
     "output_type": "stream",
     "text": [
      "C:\\Users\\antoi\\AppData\\Local\\Temp\\ipykernel_23436\\3041458786.py:2: FutureWarning: DataFrameGroupBy.apply operated on the grouping columns. This behavior is deprecated, and in a future version of pandas the grouping columns will be excluded from the operation. Either pass `include_groups=False` to exclude the groupings or explicitly select the grouping columns after groupby to silence this warning.\n",
      "  ping_pong_df = df.groupby(\"case_seq_num\").apply(ping_pong_trace_serie).reset_index(drop=True)\n"
     ]
    },
    {
     "data": {
      "text/html": [
       "<div>\n",
       "<style scoped>\n",
       "    .dataframe tbody tr th:only-of-type {\n",
       "        vertical-align: middle;\n",
       "    }\n",
       "\n",
       "    .dataframe tbody tr th {\n",
       "        vertical-align: top;\n",
       "    }\n",
       "\n",
       "    .dataframe thead th {\n",
       "        text-align: right;\n",
       "    }\n",
       "</style>\n",
       "<table border=\"1\" class=\"dataframe\">\n",
       "  <thead>\n",
       "    <tr style=\"text-align: right;\">\n",
       "      <th></th>\n",
       "      <th>case_seq_num</th>\n",
       "      <th>has_ping_pong</th>\n",
       "      <th>ping_pong_pairs</th>\n",
       "    </tr>\n",
       "  </thead>\n",
       "  <tbody>\n",
       "    <tr>\n",
       "      <th>0</th>\n",
       "      <td>1-642402641</td>\n",
       "      <td>False</td>\n",
       "      <td>[]</td>\n",
       "    </tr>\n",
       "    <tr>\n",
       "      <th>1</th>\n",
       "      <td>1-642714990</td>\n",
       "      <td>True</td>\n",
       "      <td>[((D6, V37 2nd), 6.938310185185185), ((V37 2nd...</td>\n",
       "    </tr>\n",
       "    <tr>\n",
       "      <th>2</th>\n",
       "      <td>1-642761396</td>\n",
       "      <td>True</td>\n",
       "      <td>[((D2, V37 2nd), 7.0859375), ((V37 2nd, V32 2n...</td>\n",
       "    </tr>\n",
       "    <tr>\n",
       "      <th>3</th>\n",
       "      <td>1-642781041</td>\n",
       "      <td>False</td>\n",
       "      <td>[]</td>\n",
       "    </tr>\n",
       "    <tr>\n",
       "      <th>4</th>\n",
       "      <td>1-643338463</td>\n",
       "      <td>False</td>\n",
       "      <td>[]</td>\n",
       "    </tr>\n",
       "    <tr>\n",
       "      <th>...</th>\n",
       "      <td>...</td>\n",
       "      <td>...</td>\n",
       "      <td>...</td>\n",
       "    </tr>\n",
       "    <tr>\n",
       "      <th>7451</th>\n",
       "      <td>1-740862164</td>\n",
       "      <td>False</td>\n",
       "      <td>[]</td>\n",
       "    </tr>\n",
       "    <tr>\n",
       "      <th>7452</th>\n",
       "      <td>1-740865953</td>\n",
       "      <td>False</td>\n",
       "      <td>[]</td>\n",
       "    </tr>\n",
       "    <tr>\n",
       "      <th>7453</th>\n",
       "      <td>1-740865969</td>\n",
       "      <td>False</td>\n",
       "      <td>[]</td>\n",
       "    </tr>\n",
       "    <tr>\n",
       "      <th>7454</th>\n",
       "      <td>1-740866691</td>\n",
       "      <td>False</td>\n",
       "      <td>[]</td>\n",
       "    </tr>\n",
       "    <tr>\n",
       "      <th>7455</th>\n",
       "      <td>1-740866708</td>\n",
       "      <td>False</td>\n",
       "      <td>[]</td>\n",
       "    </tr>\n",
       "  </tbody>\n",
       "</table>\n",
       "<p>7456 rows × 3 columns</p>\n",
       "</div>"
      ],
      "text/plain": [
       "     case_seq_num  has_ping_pong  \\\n",
       "0     1-642402641          False   \n",
       "1     1-642714990           True   \n",
       "2     1-642761396           True   \n",
       "3     1-642781041          False   \n",
       "4     1-643338463          False   \n",
       "...           ...            ...   \n",
       "7451  1-740862164          False   \n",
       "7452  1-740865953          False   \n",
       "7453  1-740865969          False   \n",
       "7454  1-740866691          False   \n",
       "7455  1-740866708          False   \n",
       "\n",
       "                                        ping_pong_pairs  \n",
       "0                                                    []  \n",
       "1     [((D6, V37 2nd), 6.938310185185185), ((V37 2nd...  \n",
       "2     [((D2, V37 2nd), 7.0859375), ((V37 2nd, V32 2n...  \n",
       "3                                                    []  \n",
       "4                                                    []  \n",
       "...                                                 ...  \n",
       "7451                                                 []  \n",
       "7452                                                 []  \n",
       "7453                                                 []  \n",
       "7454                                                 []  \n",
       "7455                                                 []  \n",
       "\n",
       "[7456 rows x 3 columns]"
      ]
     },
     "execution_count": 5,
     "metadata": {},
     "output_type": "execute_result"
    }
   ],
   "source": [
    "\n",
    "df = pd.read_pickle(\"../data/1_log_clean.pkl\")\n",
    "ping_pong_df = df.groupby(\"case_seq_num\").apply(ping_pong_trace_serie).reset_index(drop=True)\n",
    "ping_pong_df"
   ]
  },
  {
   "cell_type": "code",
   "execution_count": 6,
   "metadata": {},
   "outputs": [
    {
     "name": "stdout",
     "output_type": "stream",
     "text": [
      "Number of traces with ping-pong: 1201\n"
     ]
    }
   ],
   "source": [
    "\n",
    "num_ping_pong = ping_pong_df[\"has_ping_pong\"].sum()\n",
    "print(f\"Number of traces with ping-pong: {num_ping_pong}\")"
   ]
  },
  {
   "cell_type": "code",
   "execution_count": 7,
   "metadata": {},
   "outputs": [
    {
     "name": "stdout",
     "output_type": "stream",
     "text": [
      "Most common ping pong pairs\n",
      "D5 <-> D4: 87/3026 times, 2.88%\n",
      "D4 <-> N26 2nd: 63/3026 times, 2.08%\n",
      "D7 <-> D4: 55/3026 times, 1.82%\n",
      "D2 <-> D4: 47/3026 times, 1.55%\n",
      "D4 <-> D5: 46/3026 times, 1.52%\n"
     ]
    }
   ],
   "source": [
    "\n",
    "all_pairs = [pair[0] for pairs in ping_pong_df[\"ping_pong_pairs\"] for pair in pairs]\n",
    "pair_counts  = Counter(all_pairs)\n",
    "tt = sum(pair_counts.values())\n",
    "print(\"Most common ping pong pairs\")\n",
    "for (a,b) , count in pair_counts.most_common(5):\n",
    "    print(f\"{a} <-> {b}: {count}/{tt} times, {(count / tt) * 100 :.2f}%\")\n"
   ]
  },
  {
   "cell_type": "code",
   "execution_count": 9,
   "metadata": {},
   "outputs": [
    {
     "name": "stdout",
     "output_type": "stream",
     "text": [
      "Most common ping pong org:groups\n",
      "D4: 650/6052 traces, 10.74%\n",
      "G97: 427/6052 traces, 7.06%\n",
      "D5: 299/6052 traces, 4.94%\n",
      "D2: 204/6052 traces, 3.37%\n",
      "D8: 187/6052 traces, 3.09%\n"
     ]
    }
   ],
   "source": [
    "\n",
    "all_orgs = []\n",
    "all_orgs =[org for pair in all_pairs for org in pair]\n",
    "orgs_counts  = Counter(all_orgs)\n",
    "tt = sum(orgs_counts.values())\n",
    "print(\"Most common ping pong org:groups\")\n",
    "for org , count in orgs_counts.most_common(5):\n",
    "    print(f\"{org}: {count}/{tt} traces, {(count / tt) * 100 :.2f}%\")\n",
    "\n"
   ]
  },
  {
   "cell_type": "code",
   "execution_count": 10,
   "metadata": {},
   "outputs": [
    {
     "data": {
      "image/png": "[encoded data removed]",
      "text/plain": [
       "<Figure size 640x480 with 1 Axes>"
      ]
     },
     "metadata": {},
     "output_type": "display_data"
    }
   ],
   "source": [
    "\n",
    "all_durations = [pair[1] for pairs in ping_pong_df[\"ping_pong_pairs\"] for pair in pairs]\n",
    "\n",
    "plt.hist(all_durations, bins=20)\n",
    "plt.xlabel(\"Ping-pong duration (days)\")\n",
    "plt.ylabel(\"Freq\")\n",
    "plt.title(\"Distribution of ping-pong durations\")\n",
    "plt.show()\n"
   ]
  },
  {
   "cell_type": "code",
   "execution_count": 11,
   "metadata": {},
   "outputs": [
    {
     "data": {
      "text/html": [
       "<div>\n",
       "<style scoped>\n",
       "    .dataframe tbody tr th:only-of-type {\n",
       "        vertical-align: middle;\n",
       "    }\n",
       "\n",
       "    .dataframe tbody tr th {\n",
       "        vertical-align: top;\n",
       "    }\n",
       "\n",
       "    .dataframe thead th {\n",
       "        text-align: right;\n",
       "    }\n",
       "</style>\n",
       "<table border=\"1\" class=\"dataframe\">\n",
       "  <thead>\n",
       "    <tr style=\"text-align: right;\">\n",
       "      <th></th>\n",
       "      <th>duration</th>\n",
       "    </tr>\n",
       "  </thead>\n",
       "  <tbody>\n",
       "    <tr>\n",
       "      <th>count</th>\n",
       "      <td>3026.000000</td>\n",
       "    </tr>\n",
       "    <tr>\n",
       "      <th>mean</th>\n",
       "      <td>5.376455</td>\n",
       "    </tr>\n",
       "    <tr>\n",
       "      <th>std</th>\n",
       "      <td>11.406737</td>\n",
       "    </tr>\n",
       "    <tr>\n",
       "      <th>min</th>\n",
       "      <td>0.000243</td>\n",
       "    </tr>\n",
       "    <tr>\n",
       "      <th>25%</th>\n",
       "      <td>0.156881</td>\n",
       "    </tr>\n",
       "    <tr>\n",
       "      <th>50%</th>\n",
       "      <td>1.188814</td>\n",
       "    </tr>\n",
       "    <tr>\n",
       "      <th>75%</th>\n",
       "      <td>5.833333</td>\n",
       "    </tr>\n",
       "    <tr>\n",
       "      <th>max</th>\n",
       "      <td>110.123669</td>\n",
       "    </tr>\n",
       "  </tbody>\n",
       "</table>\n",
       "</div>"
      ],
      "text/plain": [
       "          duration\n",
       "count  3026.000000\n",
       "mean      5.376455\n",
       "std      11.406737\n",
       "min       0.000243\n",
       "25%       0.156881\n",
       "50%       1.188814\n",
       "75%       5.833333\n",
       "max     110.123669"
      ]
     },
     "execution_count": 11,
     "metadata": {},
     "output_type": "execute_result"
    }
   ],
   "source": [
    "\n",
    "dd = pd.DataFrame(all_durations, columns=[\"duration\"])\n",
    "dd.describe()"
   ]
  },
  {
   "cell_type": "code",
   "execution_count": 12,
   "metadata": {},
   "outputs": [
    {
     "name": "stdout",
     "output_type": "stream",
     "text": [
      "Top 5 ping pong pairs by max duration (with case):\n",
      "Case 1-647788578: D5 <-> V37 2nd : 110.12 days\n",
      "Case 1-642714990: V37 2nd <-> V32 2nd : 109.03 days\n",
      "Case 1-651196130: D6 <-> V46 2nd : 105.88 days\n",
      "Case 1-655281402: G18 3rd <-> L23 3rd : 105.10 days\n",
      "Case 1-652256138: D2 <-> V51 2nd : 103.88 days\n"
     ]
    }
   ],
   "source": [
    "\n",
    "pair_df = pd.DataFrame(\n",
    "    [\n",
    "        (row.case_seq_num, p, d)\n",
    "        for _, row in ping_pong_df.iterrows()\n",
    "        for (p, d) in row.ping_pong_pairs\n",
    "    ],\n",
    "    columns=[\"case_seq_num\", \"pair\", \"duration\"]\n",
    ")\n",
    "idx_max = pair_df.groupby(\"pair\")[\"duration\"].idxmax()\n",
    "max_cases = (\n",
    "    pair_df\n",
    "    .loc[idx_max, [\"case_seq_num\", \"pair\", \"duration\"]]\n",
    "    .sort_values(\"duration\", ascending=False)\n",
    "    .head(10)                       # top 10 pairs, change to .head(5) for top 5\n",
    "    .reset_index(drop=True)\n",
    ")\n",
    "\n",
    "print(\"Top 5 ping pong pairs by max duration (with case):\")\n",
    "for _, row in max_cases.head(5).iterrows():\n",
    "    a, b = row[\"pair\"]\n",
    "    print(f\"Case {row['case_seq_num']}: {a} <-> {b} : {row['duration']:.2f} days\")\n"
   ]
  },
  {
   "cell_type": "code",
   "execution_count": null,
   "metadata": {},
   "outputs": [],
   "source": []
  }
 ],
 "metadata": {
  "kernelspec": {
   "display_name": "myenv",
   "language": "python",
   "name": "python3"
  },
  "language_info": {
   "codemirror_mode": {
    "name": "ipython",
    "version": 3
   },
   "file_extension": ".py",
   "mimetype": "text/x-python",
   "name": "python",
   "nbconvert_exporter": "python",
   "pygments_lexer": "ipython3",
   "version": "3.9.9"
  }
 },
 "nbformat": 4,
 "nbformat_minor": 2
}
